{
 "cells": [
  {
   "cell_type": "code",
   "execution_count": null,
   "id": "29d759a9",
   "metadata": {},
   "outputs": [],
   "source": [
    "Q1)\n",
    "The two values of Boolean datatype are True and False, where True represent 1 and false represent 0. "
   ]
  },
  {
   "cell_type": "code",
   "execution_count": null,
   "id": "de19f5e8",
   "metadata": {},
   "outputs": [],
   "source": [
    "Q2)\n",
    "The three boolean operators are and , or ,not."
   ]
  },
  {
   "cell_type": "code",
   "execution_count": null,
   "id": "e4b08a61",
   "metadata": {},
   "outputs": [],
   "source": [
    "Q4)\n"
   ]
  },
  {
   "cell_type": "code",
   "execution_count": null,
   "id": "81508cd8",
   "metadata": {},
   "outputs": [],
   "source": [
    "The ouputs of following expressions are evaluated below:"
   ]
  },
  {
   "cell_type": "code",
   "execution_count": 7,
   "id": "cdf3a81e",
   "metadata": {},
   "outputs": [
    {
     "data": {
      "text/plain": [
       "False"
      ]
     },
     "execution_count": 7,
     "metadata": {},
     "output_type": "execute_result"
    }
   ],
   "source": [
    "(5 > 4) and (3 == 5)"
   ]
  },
  {
   "cell_type": "code",
   "execution_count": 8,
   "id": "6751bba4",
   "metadata": {},
   "outputs": [
    {
     "data": {
      "text/plain": [
       "False"
      ]
     },
     "execution_count": 8,
     "metadata": {},
     "output_type": "execute_result"
    }
   ],
   "source": [
    "not (5 > 4)"
   ]
  },
  {
   "cell_type": "code",
   "execution_count": 9,
   "id": "709ded02",
   "metadata": {},
   "outputs": [
    {
     "data": {
      "text/plain": [
       "True"
      ]
     },
     "execution_count": 9,
     "metadata": {},
     "output_type": "execute_result"
    }
   ],
   "source": [
    "(5 > 4) or (3 == 5)"
   ]
  },
  {
   "cell_type": "code",
   "execution_count": 10,
   "id": "12464b4e",
   "metadata": {},
   "outputs": [
    {
     "data": {
      "text/plain": [
       "False"
      ]
     },
     "execution_count": 10,
     "metadata": {},
     "output_type": "execute_result"
    }
   ],
   "source": [
    "not ((5 > 4) or (3 == 5))"
   ]
  },
  {
   "cell_type": "code",
   "execution_count": 11,
   "id": "cf22451a",
   "metadata": {},
   "outputs": [
    {
     "data": {
      "text/plain": [
       "False"
      ]
     },
     "execution_count": 11,
     "metadata": {},
     "output_type": "execute_result"
    }
   ],
   "source": [
    "(True and True) and (True == False)"
   ]
  },
  {
   "cell_type": "code",
   "execution_count": 12,
   "id": "d5f57979",
   "metadata": {},
   "outputs": [
    {
     "data": {
      "text/plain": [
       "True"
      ]
     },
     "execution_count": 12,
     "metadata": {},
     "output_type": "execute_result"
    }
   ],
   "source": [
    "(not False) or (not True)"
   ]
  },
  {
   "cell_type": "code",
   "execution_count": null,
   "id": "5031829b",
   "metadata": {},
   "outputs": [],
   "source": [
    "Q5)\n",
    "The six comparison operators are:\n",
    "less than(<), less tha  equal to (<=), greater than(>), greater than eqau to (>=), equal to sign (==), not equal to(!=)."
   ]
  },
  {
   "cell_type": "code",
   "execution_count": null,
   "id": "50b13c01",
   "metadata": {},
   "outputs": [],
   "source": [
    "Q6)\n",
    "Equal to operator is denoted by(==) and assignment operator is denoted by (=). \n",
    "In order to check some condition that whether one value is equivalent to another value. Equal to operator is taken in use.\n",
    "In order to assign values to variable, assignment operator is taken in use."
   ]
  },
  {
   "cell_type": "code",
   "execution_count": null,
   "id": "7caa955f",
   "metadata": {},
   "outputs": [],
   "source": [
    "Q7)"
   ]
  },
  {
   "cell_type": "code",
   "execution_count": 14,
   "id": "7da88756",
   "metadata": {},
   "outputs": [
    {
     "name": "stdout",
     "output_type": "stream",
     "text": [
      "ham\n",
      "spam\n",
      "spam\n"
     ]
    }
   ],
   "source": [
    "spam = 0\n",
    "if spam == 10:\n",
    "    print('eggs') #block1\n",
    "if spam > 5:\n",
    "    print('bacon') #block2\n",
    "else:\n",
    "    print('ham')  #block3\n",
    "    print('spam')\n",
    "    print('spam')"
   ]
  },
  {
   "cell_type": "code",
   "execution_count": null,
   "id": "8e539cad",
   "metadata": {},
   "outputs": [],
   "source": [
    "Q8)"
   ]
  },
  {
   "cell_type": "code",
   "execution_count": null,
   "id": "021c9ab7",
   "metadata": {},
   "outputs": [],
   "source": [
    "spam=int(input())\n",
    "if spam==1:\n",
    "    print('Hello')\n",
    "elif spam==2:\n",
    "        print('Howdy')\n",
    "else:\n",
    "    print('Greetings!')"
   ]
  },
  {
   "cell_type": "code",
   "execution_count": null,
   "id": "4051fdc0",
   "metadata": {},
   "outputs": [],
   "source": [
    "Q9)"
   ]
  },
  {
   "cell_type": "code",
   "execution_count": null,
   "id": "8e74d435",
   "metadata": {},
   "outputs": [],
   "source": [
    "Press the key 'intreput the kernel' over jupyter notebook that will stop the loop. \n",
    "In case of infinite loop, use the key 'intreput the kernel'over system."
   ]
  },
  {
   "cell_type": "code",
   "execution_count": null,
   "id": "72793495",
   "metadata": {},
   "outputs": [],
   "source": [
    "Q10)"
   ]
  },
  {
   "cell_type": "code",
   "execution_count": null,
   "id": "3237b88d",
   "metadata": {},
   "outputs": [],
   "source": [
    "break is used to break the entire loop. No further inputs can be implemented after break, as the entire loop is broken.\n",
    "continue is used to move the loop infinite times and never stops if ceratin condition is met everytime.\n",
    "Therefore, break is taken in use to stop the entire process of loop, while continue is taken in use to process loop infinite times."
   ]
  },
  {
   "cell_type": "code",
   "execution_count": null,
   "id": "269cd03d",
   "metadata": {},
   "outputs": [],
   "source": [
    "Q11)"
   ]
  },
  {
   "cell_type": "code",
   "execution_count": null,
   "id": "316cb8f1",
   "metadata": {},
   "outputs": [],
   "source": [
    "range(10) denotes the collection of data of 10 elements, which default starts from 0 and continue till 10 excluding 10. \n",
    "Here only upperbound is provided.\n",
    "range(0,10)denotes the collection of data of 10 elements, which default starts from 0 and continue till 10 excluding 10.\n",
    "In this case, both lower and upper bounds are provided.\n",
    "range(0,10,1)denotes the collection of data of 10 elements, which default starts from 0 and continue till 10 excluding 10 and 1 denotes here jump of 1.\n"
   ]
  },
  {
   "cell_type": "code",
   "execution_count": null,
   "id": "45d923d1",
   "metadata": {},
   "outputs": [],
   "source": [
    "Q12)"
   ]
  },
  {
   "cell_type": "code",
   "execution_count": 2,
   "id": "45e79fa7",
   "metadata": {},
   "outputs": [
    {
     "name": "stdout",
     "output_type": "stream",
     "text": [
      "1\n",
      "2\n",
      "3\n",
      "4\n",
      "5\n",
      "6\n",
      "7\n",
      "8\n",
      "9\n",
      "10\n"
     ]
    }
   ],
   "source": [
    "for i in range(1,11):\n",
    "    print(i)"
   ]
  },
  {
   "cell_type": "code",
   "execution_count": 4,
   "id": "ad89321d",
   "metadata": {},
   "outputs": [
    {
     "name": "stdout",
     "output_type": "stream",
     "text": [
      "1\n",
      "2\n",
      "3\n",
      "4\n",
      "5\n",
      "6\n",
      "7\n",
      "8\n",
      "9\n",
      "10\n"
     ]
    }
   ],
   "source": [
    "a=1\n",
    "while a<11:\n",
    "    print(a)\n",
    "    a=a+1  "
   ]
  },
  {
   "cell_type": "code",
   "execution_count": null,
   "id": "fe4538fb",
   "metadata": {},
   "outputs": [],
   "source": [
    "q13)\n",
    "\n",
    "First implement imort spam, afer importing the module spam. Write spam.bacon() to call bacon function inside spam module.\n"
   ]
  },
  {
   "cell_type": "code",
   "execution_count": null,
   "id": "cf5c9e48",
   "metadata": {},
   "outputs": [],
   "source": []
  }
 ],
 "metadata": {
  "kernelspec": {
   "display_name": "Python 3 (ipykernel)",
   "language": "python",
   "name": "python3"
  },
  "language_info": {
   "codemirror_mode": {
    "name": "ipython",
    "version": 3
   },
   "file_extension": ".py",
   "mimetype": "text/x-python",
   "name": "python",
   "nbconvert_exporter": "python",
   "pygments_lexer": "ipython3",
   "version": "3.9.12"
  }
 },
 "nbformat": 4,
 "nbformat_minor": 5
}
