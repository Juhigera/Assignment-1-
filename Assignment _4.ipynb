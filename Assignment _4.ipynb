{
 "cells": [
  {
   "cell_type": "code",
   "execution_count": null,
   "id": "5c7190da",
   "metadata": {},
   "outputs": [],
   "source": [
    "q1)\n",
    "\n",
    "[] this represents an empty list. List is dented by [] which includes elements seprated by commas. Here it includes nothing,\n",
    "therefore [] this signifies empty list."
   ]
  },
  {
   "cell_type": "code",
   "execution_count": null,
   "id": "9bb173c8",
   "metadata": {},
   "outputs": [],
   "source": [
    "q2)"
   ]
  },
  {
   "cell_type": "code",
   "execution_count": 1,
   "id": "460f6151",
   "metadata": {},
   "outputs": [],
   "source": [
    "spam=[2,4,6,8,10]\n",
    "spam[2]='hello'"
   ]
  },
  {
   "cell_type": "code",
   "execution_count": 2,
   "id": "0e8ea80d",
   "metadata": {},
   "outputs": [
    {
     "data": {
      "text/plain": [
       "[2, 4, 'hello', 8, 10]"
      ]
     },
     "execution_count": 2,
     "metadata": {},
     "output_type": "execute_result"
    }
   ],
   "source": [
    "spam"
   ]
  },
  {
   "cell_type": "code",
   "execution_count": null,
   "id": "0e014dc5",
   "metadata": {},
   "outputs": [],
   "source": [
    "q3)"
   ]
  },
  {
   "cell_type": "code",
   "execution_count": 50,
   "id": "250c4456",
   "metadata": {},
   "outputs": [],
   "source": [
    "spam=['a','b','c','d']\n"
   ]
  },
  {
   "cell_type": "code",
   "execution_count": 47,
   "id": "944549c0",
   "metadata": {},
   "outputs": [
    {
     "data": {
      "text/plain": [
       "'d'"
      ]
     },
     "execution_count": 47,
     "metadata": {},
     "output_type": "execute_result"
    }
   ],
   "source": [
    "spam[int(int('3' * 2) / 11)]"
   ]
  },
  {
   "cell_type": "code",
   "execution_count": 53,
   "id": "bf20bd8e",
   "metadata": {},
   "outputs": [
    {
     "data": {
      "text/plain": [
       "'d'"
      ]
     },
     "execution_count": 53,
     "metadata": {},
     "output_type": "execute_result"
    }
   ],
   "source": [
    "spam[int(int('33')/11)]"
   ]
  },
  {
   "cell_type": "code",
   "execution_count": 52,
   "id": "251bc7bd",
   "metadata": {},
   "outputs": [
    {
     "data": {
      "text/plain": [
       "33"
      ]
     },
     "execution_count": 52,
     "metadata": {},
     "output_type": "execute_result"
    }
   ],
   "source": []
  },
  {
   "cell_type": "code",
   "execution_count": null,
   "id": "8660b2fe",
   "metadata": {},
   "outputs": [],
   "source": [
    "q4)"
   ]
  },
  {
   "cell_type": "code",
   "execution_count": 6,
   "id": "d9bcddfd",
   "metadata": {},
   "outputs": [
    {
     "data": {
      "text/plain": [
       "'d'"
      ]
     },
     "execution_count": 6,
     "metadata": {},
     "output_type": "execute_result"
    }
   ],
   "source": [
    "spam[-1]"
   ]
  },
  {
   "cell_type": "code",
   "execution_count": null,
   "id": "7f8f439f",
   "metadata": {},
   "outputs": [],
   "source": [
    "q5)"
   ]
  },
  {
   "cell_type": "code",
   "execution_count": 7,
   "id": "fd1666b5",
   "metadata": {},
   "outputs": [
    {
     "data": {
      "text/plain": [
       "['a', 'b']"
      ]
     },
     "execution_count": 7,
     "metadata": {},
     "output_type": "execute_result"
    }
   ],
   "source": [
    "spam[:2]"
   ]
  },
  {
   "cell_type": "code",
   "execution_count": null,
   "id": "5e0d8ced",
   "metadata": {},
   "outputs": [],
   "source": [
    "q6)"
   ]
  },
  {
   "cell_type": "code",
   "execution_count": 9,
   "id": "cccc331e",
   "metadata": {},
   "outputs": [],
   "source": [
    "bacon=[3.14, 'cat', 11, 'cat', True] "
   ]
  },
  {
   "cell_type": "code",
   "execution_count": 10,
   "id": "a40e297a",
   "metadata": {},
   "outputs": [
    {
     "data": {
      "text/plain": [
       "1"
      ]
     },
     "execution_count": 10,
     "metadata": {},
     "output_type": "execute_result"
    }
   ],
   "source": [
    "bacon.index('cat')"
   ]
  },
  {
   "cell_type": "code",
   "execution_count": null,
   "id": "fc1f1f24",
   "metadata": {},
   "outputs": [],
   "source": [
    "q7)"
   ]
  },
  {
   "cell_type": "code",
   "execution_count": 11,
   "id": "2525250a",
   "metadata": {},
   "outputs": [],
   "source": [
    "bacon.append(99)"
   ]
  },
  {
   "cell_type": "code",
   "execution_count": 12,
   "id": "54784ede",
   "metadata": {},
   "outputs": [
    {
     "data": {
      "text/plain": [
       "[3.14, 'cat', 11, 'cat', True, 99]"
      ]
     },
     "execution_count": 12,
     "metadata": {},
     "output_type": "execute_result"
    }
   ],
   "source": [
    "bacon"
   ]
  },
  {
   "cell_type": "code",
   "execution_count": null,
   "id": "51eb3889",
   "metadata": {},
   "outputs": [],
   "source": [
    "99 is added to the list bacon, as one more entry can be seen in updated list."
   ]
  },
  {
   "cell_type": "code",
   "execution_count": null,
   "id": "7da19fbc",
   "metadata": {},
   "outputs": [],
   "source": [
    "q8)"
   ]
  },
  {
   "cell_type": "code",
   "execution_count": 13,
   "id": "f27ba08b",
   "metadata": {},
   "outputs": [],
   "source": [
    "bacon.remove('cat')"
   ]
  },
  {
   "cell_type": "code",
   "execution_count": 14,
   "id": "239f2da9",
   "metadata": {},
   "outputs": [
    {
     "data": {
      "text/plain": [
       "[3.14, 11, 'cat', True, 99]"
      ]
     },
     "execution_count": 14,
     "metadata": {},
     "output_type": "execute_result"
    }
   ],
   "source": [
    "bacon"
   ]
  },
  {
   "cell_type": "code",
   "execution_count": null,
   "id": "4d5b20f8",
   "metadata": {},
   "outputs": [],
   "source": [
    "This function removes the str 'cat' present at the first index. As there are two str with name 'cat', but it removes the one\n",
    "which is present at first place."
   ]
  },
  {
   "cell_type": "code",
   "execution_count": null,
   "id": "d2463c36",
   "metadata": {},
   "outputs": [],
   "source": [
    "q9)"
   ]
  },
  {
   "cell_type": "code",
   "execution_count": null,
   "id": "74dad7b4",
   "metadata": {},
   "outputs": [],
   "source": [
    "List conecation operator helps in joining two different lists. \n",
    "+ is the conecationation operator.\n",
    "The * operator replicates the elements in the list.\n",
    "Example is stated below:\n"
   ]
  },
  {
   "cell_type": "code",
   "execution_count": 24,
   "id": "043e9916",
   "metadata": {},
   "outputs": [
    {
     "data": {
      "text/plain": [
       "[1, 2, 3, 4, 9, 8, 'juhi', (8+9j), 48.5]"
      ]
     },
     "execution_count": 24,
     "metadata": {},
     "output_type": "execute_result"
    }
   ],
   "source": [
    "#conecation\n",
    "l1=[1,2,3,4]\n",
    "l2=[9,8,'juhi',8+9j, 48.5]\n",
    "l1+l2"
   ]
  },
  {
   "cell_type": "code",
   "execution_count": 19,
   "id": "746e2e93",
   "metadata": {},
   "outputs": [
    {
     "data": {
      "text/plain": [
       "[1, 2, 3, 4, 1, 2, 3, 4]"
      ]
     },
     "execution_count": 19,
     "metadata": {},
     "output_type": "execute_result"
    }
   ],
   "source": [
    "#replication\n",
    "l1=[1,2,3,4]\n",
    "l1*2"
   ]
  },
  {
   "cell_type": "code",
   "execution_count": null,
   "id": "e571659f",
   "metadata": {},
   "outputs": [],
   "source": [
    "q10)"
   ]
  },
  {
   "cell_type": "code",
   "execution_count": null,
   "id": "e615d01c",
   "metadata": {},
   "outputs": [],
   "source": [
    "Method append() in list is used to append elements in the list. Append simply add on the element as per the \n",
    "argument at the end.\n",
    "Method insert() is usee to add element at particualr index. Here two arguments are given first at which index the\n",
    "insertion of element is required and other is the element itself."
   ]
  },
  {
   "cell_type": "code",
   "execution_count": null,
   "id": "e16e0e89",
   "metadata": {},
   "outputs": [],
   "source": [
    "q11)"
   ]
  },
  {
   "cell_type": "code",
   "execution_count": null,
   "id": "2bf0846f",
   "metadata": {},
   "outputs": [],
   "source": [
    "remove() is one of the method to remove elements from list and another method is pop() which is used to remove \n",
    "elements fromlist.\n",
    "remove() takes argument as specified elements needs to be removed while pop() takes argument as index."
   ]
  },
  {
   "cell_type": "code",
   "execution_count": 38,
   "id": "67680cb1",
   "metadata": {},
   "outputs": [],
   "source": [
    "q12)"
   ]
  },
  {
   "cell_type": "code",
   "execution_count": null,
   "id": "bbb7819a",
   "metadata": {},
   "outputs": [],
   "source": [
    "List values and string values are identical in terms of length and index. Both are iterable objects. The difference is that\n",
    "string takes only characters while list can take elements of any data type."
   ]
  },
  {
   "cell_type": "code",
   "execution_count": null,
   "id": "03b916fc",
   "metadata": {},
   "outputs": [],
   "source": [
    "q13)"
   ]
  },
  {
   "cell_type": "code",
   "execution_count": null,
   "id": "2befb328",
   "metadata": {},
   "outputs": [],
   "source": [
    "Lists are denoted by [], while tuples are denoted by ().The elements in both are seperated by commas.\n",
    "There are several functions defined for list, in case of tuples \n",
    "only count and index are only two functions."
   ]
  },
  {
   "cell_type": "code",
   "execution_count": null,
   "id": "955921c4",
   "metadata": {},
   "outputs": [],
   "source": [
    "q14)"
   ]
  },
  {
   "cell_type": "code",
   "execution_count": 41,
   "id": "e095d9ce",
   "metadata": {},
   "outputs": [],
   "source": [
    "t=(42)"
   ]
  },
  {
   "cell_type": "code",
   "execution_count": 42,
   "id": "f105dfe0",
   "metadata": {},
   "outputs": [
    {
     "data": {
      "text/plain": [
       "int"
      ]
     },
     "execution_count": 42,
     "metadata": {},
     "output_type": "execute_result"
    }
   ],
   "source": [
    "type(t)"
   ]
  },
  {
   "cell_type": "code",
   "execution_count": null,
   "id": "d27c921e",
   "metadata": {},
   "outputs": [],
   "source": [
    "q15)"
   ]
  },
  {
   "cell_type": "code",
   "execution_count": 43,
   "id": "c2f726a5",
   "metadata": {},
   "outputs": [],
   "source": [
    "l=[5,6,7,8]\n",
    "t=(10,11,12,132,0)"
   ]
  },
  {
   "cell_type": "code",
   "execution_count": 44,
   "id": "f9261258",
   "metadata": {},
   "outputs": [
    {
     "data": {
      "text/plain": [
       "[10, 11, 12, 132, 0]"
      ]
     },
     "execution_count": 44,
     "metadata": {},
     "output_type": "execute_result"
    }
   ],
   "source": [
    "list(t)"
   ]
  },
  {
   "cell_type": "code",
   "execution_count": 45,
   "id": "bb2fffe5",
   "metadata": {},
   "outputs": [
    {
     "data": {
      "text/plain": [
       "(5, 6, 7, 8)"
      ]
     },
     "execution_count": 45,
     "metadata": {},
     "output_type": "execute_result"
    }
   ],
   "source": [
    "tuple(l)"
   ]
  },
  {
   "cell_type": "code",
   "execution_count": null,
   "id": "3c57e52f",
   "metadata": {},
   "outputs": [],
   "source": [
    "q16)\n",
    "\n",
    "Variables will contain the refrence to the list values instaed list values itself."
   ]
  },
  {
   "cell_type": "code",
   "execution_count": null,
   "id": "1d1fb5ee",
   "metadata": {},
   "outputs": [],
   "source": [
    "q17)\n",
    "copy() creates the refrence of original object, any changes made to the copied object reflects the changes in \n",
    "original object as well.\n",
    "While deepcopy() creates no changes to the original one when the changes are incured in the copied object."
   ]
  }
 ],
 "metadata": {
  "kernelspec": {
   "display_name": "Python 3 (ipykernel)",
   "language": "python",
   "name": "python3"
  },
  "language_info": {
   "codemirror_mode": {
    "name": "ipython",
    "version": 3
   },
   "file_extension": ".py",
   "mimetype": "text/x-python",
   "name": "python",
   "nbconvert_exporter": "python",
   "pygments_lexer": "ipython3",
   "version": "3.9.12"
  }
 },
 "nbformat": 4,
 "nbformat_minor": 5
}
