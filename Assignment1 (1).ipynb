{
 "cells": [
  {
   "cell_type": "code",
   "execution_count": null,
   "id": "923ceb8d",
   "metadata": {},
   "outputs": [],
   "source": [
    "Q1)\n",
    "'hello'is string\n",
    "-87.8 is a value\n",
    "- is expression\n",
    "/ is expression\n",
    "+ is expression\n",
    "6 is a value"
   ]
  },
  {
   "cell_type": "code",
   "execution_count": null,
   "id": "d11e0960",
   "metadata": {},
   "outputs": [],
   "source": [
    "Q2)\n",
    "String is consisting of letters and enclosed in paranthesis and is a type of information stored in variable.\n",
    "While a varaible is a store of information. A variable is created to store some kind of data."
   ]
  },
  {
   "cell_type": "code",
   "execution_count": null,
   "id": "61f17254",
   "metadata": {},
   "outputs": [],
   "source": [
    "Q3)\n",
    "The three datatypes are int, float, complex.\n",
    "Int is a datatype that is used to represent integer values.\n",
    "Float denotes decimal values\n",
    "Complex denote a conjugate number."
   ]
  },
  {
   "cell_type": "code",
   "execution_count": null,
   "id": "3656b327",
   "metadata": {},
   "outputs": [],
   "source": [
    "Q4)\n",
    "Expresion is combination of operations and operands which is interpreted to produce some other value.\n",
    "Expression produces some other value as it is applied over some kind of data after typecasting."
   ]
  },
  {
   "cell_type": "code",
   "execution_count": null,
   "id": "6f898fc5",
   "metadata": {},
   "outputs": [],
   "source": [
    "Q5)\n",
    "spam=10, here spam is a varaible that stores integer data. \n",
    "Expresion is combination of operations and operands which is interpreted to produce some other value.\n"
   ]
  },
  {
   "cell_type": "code",
   "execution_count": null,
   "id": "b6db75b6",
   "metadata": {},
   "outputs": [],
   "source": [
    "Q6)"
   ]
  },
  {
   "cell_type": "code",
   "execution_count": 2,
   "id": "bbd0e844",
   "metadata": {},
   "outputs": [],
   "source": [
    "bacon=22"
   ]
  },
  {
   "cell_type": "code",
   "execution_count": 3,
   "id": "1861b073",
   "metadata": {},
   "outputs": [
    {
     "data": {
      "text/plain": [
       "23"
      ]
     },
     "execution_count": 3,
     "metadata": {},
     "output_type": "execute_result"
    }
   ],
   "source": [
    "bacon+1"
   ]
  },
  {
   "cell_type": "code",
   "execution_count": 4,
   "id": "409891b3",
   "metadata": {},
   "outputs": [
    {
     "data": {
      "text/plain": [
       "22"
      ]
     },
     "execution_count": 4,
     "metadata": {},
     "output_type": "execute_result"
    }
   ],
   "source": [
    "bacon"
   ]
  },
  {
   "cell_type": "code",
   "execution_count": 7,
   "id": "8d7c9184",
   "metadata": {},
   "outputs": [],
   "source": [
    "bacon is a variable that has value 22 stored in it. "
   ]
  },
  {
   "cell_type": "code",
   "execution_count": null,
   "id": "7efc5b64",
   "metadata": {},
   "outputs": [],
   "source": [
    "Q7)\n"
   ]
  },
  {
   "cell_type": "code",
   "execution_count": 8,
   "id": "3f3f70ff",
   "metadata": {},
   "outputs": [
    {
     "data": {
      "text/plain": [
       "'spamspamspam'"
      ]
     },
     "execution_count": 8,
     "metadata": {},
     "output_type": "execute_result"
    }
   ],
   "source": [
    "'spam'+'spamspam'"
   ]
  },
  {
   "cell_type": "code",
   "execution_count": null,
   "id": "5454a4f3",
   "metadata": {},
   "outputs": [],
   "source": [
    "String is added to string datatype. The obtained value is 'spamsapmspam'"
   ]
  },
  {
   "cell_type": "code",
   "execution_count": 10,
   "id": "96312dae",
   "metadata": {},
   "outputs": [
    {
     "data": {
      "text/plain": [
       "'spamspamspam'"
      ]
     },
     "execution_count": 10,
     "metadata": {},
     "output_type": "execute_result"
    }
   ],
   "source": [
    "'spam'*3"
   ]
  },
  {
   "cell_type": "code",
   "execution_count": null,
   "id": "cc621cb0",
   "metadata": {},
   "outputs": [],
   "source": [
    "The value is an string 'spamspamspam'"
   ]
  },
  {
   "cell_type": "code",
   "execution_count": null,
   "id": "421efeb2",
   "metadata": {},
   "outputs": [],
   "source": [
    "Q8)"
   ]
  },
  {
   "cell_type": "code",
   "execution_count": null,
   "id": "eef6d159",
   "metadata": {},
   "outputs": [],
   "source": [
    "Variable name is always declared by initial of some letter or underscore, it never starts with numerical value.\n",
    "Therefore, eggs is considered as valid variabale name and 100 is not."
   ]
  },
  {
   "cell_type": "code",
   "execution_count": null,
   "id": "88c07256",
   "metadata": {},
   "outputs": [],
   "source": [
    "Q9)"
   ]
  },
  {
   "cell_type": "code",
   "execution_count": null,
   "id": "fa807e0b",
   "metadata": {},
   "outputs": [],
   "source": [
    "int() is a function which is used to get integer values.\n",
    "float() is a function which is used to get float values.\n",
    "str() is a function which is to used to get string values.\n"
   ]
  },
  {
   "cell_type": "code",
   "execution_count": null,
   "id": "2264db31",
   "metadata": {},
   "outputs": [],
   "source": [
    "Q10)\n"
   ]
  },
  {
   "cell_type": "code",
   "execution_count": null,
   "id": "9a7d4aa2",
   "metadata": {},
   "outputs": [],
   "source": [
    "The given expression 'I have eaten'+99+'burritos' is incorrect as string value can't be added to int datatype.\n",
    "This can be resolved by making integer value 99 into string value by adding paranthesis."
   ]
  },
  {
   "cell_type": "code",
   "execution_count": 25,
   "id": "da20a50e",
   "metadata": {},
   "outputs": [
    {
     "data": {
      "text/plain": [
       "'I have eaten 99 burritos'"
      ]
     },
     "execution_count": 25,
     "metadata": {},
     "output_type": "execute_result"
    }
   ],
   "source": [
    "'I have eaten'+ ' ' '99'+' ' 'burritos'"
   ]
  },
  {
   "cell_type": "code",
   "execution_count": null,
   "id": "28066d5d",
   "metadata": {},
   "outputs": [],
   "source": []
  }
 ],
 "metadata": {
  "kernelspec": {
   "display_name": "Python 3 (ipykernel)",
   "language": "python",
   "name": "python3"
  },
  "language_info": {
   "codemirror_mode": {
    "name": "ipython",
    "version": 3
   },
   "file_extension": ".py",
   "mimetype": "text/x-python",
   "name": "python",
   "nbconvert_exporter": "python",
   "pygments_lexer": "ipython3",
   "version": "3.9.12"
  }
 },
 "nbformat": 4,
 "nbformat_minor": 5
}
