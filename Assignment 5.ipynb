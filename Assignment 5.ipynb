{
 "cells": [
  {
   "cell_type": "code",
   "execution_count": null,
   "id": "0d1563b6",
   "metadata": {},
   "outputs": [],
   "source": [
    "q1)\n",
    "Empty dict is represented by {}. "
   ]
  },
  {
   "cell_type": "code",
   "execution_count": 1,
   "id": "5269353f",
   "metadata": {},
   "outputs": [
    {
     "data": {
      "text/plain": [
       "{}"
      ]
     },
     "execution_count": 1,
     "metadata": {},
     "output_type": "execute_result"
    }
   ],
   "source": [
    "{}"
   ]
  },
  {
   "cell_type": "code",
   "execution_count": null,
   "id": "d8600b89",
   "metadata": {},
   "outputs": [],
   "source": [
    "q2)"
   ]
  },
  {
   "cell_type": "code",
   "execution_count": 3,
   "id": "12ffdfab",
   "metadata": {},
   "outputs": [],
   "source": [
    "d={}\n",
    "d['foo']=42"
   ]
  },
  {
   "cell_type": "code",
   "execution_count": 4,
   "id": "172f2c9c",
   "metadata": {},
   "outputs": [
    {
     "data": {
      "text/plain": [
       "{'foo': 42}"
      ]
     },
     "execution_count": 4,
     "metadata": {},
     "output_type": "execute_result"
    }
   ],
   "source": [
    "d"
   ]
  },
  {
   "cell_type": "code",
   "execution_count": null,
   "id": "6042049f",
   "metadata": {},
   "outputs": [],
   "source": [
    "q3)"
   ]
  },
  {
   "cell_type": "code",
   "execution_count": null,
   "id": "1dc8b2cd",
   "metadata": {},
   "outputs": [],
   "source": [
    "Dict consist of items in  pair of keys and values. While lists consist of items seperated by commas.\n",
    "A list refers to a collection of various index value pairs like that in the case of an array in C++."
   ]
  },
  {
   "cell_type": "code",
   "execution_count": null,
   "id": "8900feb7",
   "metadata": {},
   "outputs": [],
   "source": [
    "q4)"
   ]
  },
  {
   "cell_type": "code",
   "execution_count": 5,
   "id": "ed598885",
   "metadata": {},
   "outputs": [],
   "source": [
    "spam={'bar':100}"
   ]
  },
  {
   "cell_type": "code",
   "execution_count": 6,
   "id": "c45f178b",
   "metadata": {},
   "outputs": [
    {
     "ename": "KeyError",
     "evalue": "'foo'",
     "output_type": "error",
     "traceback": [
      "\u001b[1;31m---------------------------------------------------------------------------\u001b[0m",
      "\u001b[1;31mKeyError\u001b[0m                                  Traceback (most recent call last)",
      "Input \u001b[1;32mIn [6]\u001b[0m, in \u001b[0;36m<cell line: 1>\u001b[1;34m()\u001b[0m\n\u001b[1;32m----> 1\u001b[0m \u001b[43mspam\u001b[49m\u001b[43m[\u001b[49m\u001b[38;5;124;43m'\u001b[39;49m\u001b[38;5;124;43mfoo\u001b[39;49m\u001b[38;5;124;43m'\u001b[39;49m\u001b[43m]\u001b[49m\n",
      "\u001b[1;31mKeyError\u001b[0m: 'foo'"
     ]
    }
   ],
   "source": [
    "spam['foo']"
   ]
  },
  {
   "cell_type": "code",
   "execution_count": null,
   "id": "59e02fb4",
   "metadata": {},
   "outputs": [],
   "source": [
    "Keyerror is generated in this case as there exist no key with word 'foo'."
   ]
  },
  {
   "cell_type": "code",
   "execution_count": null,
   "id": "5d533ab9",
   "metadata": {},
   "outputs": [],
   "source": [
    "q5)"
   ]
  },
  {
   "cell_type": "code",
   "execution_count": 11,
   "id": "5eeddea8",
   "metadata": {},
   "outputs": [],
   "source": [
    "'cat' in spam and 'cat' in spam.keys() both the expressions checks the key with name 'cat' is present in the  dict spam. \n",
    "First is the direct way, in second method it uses the ibuilt function keys of dict. There is no difference in both the statements."
   ]
  },
  {
   "cell_type": "code",
   "execution_count": null,
   "id": "944e15be",
   "metadata": {},
   "outputs": [],
   "source": [
    "q6)\n"
   ]
  },
  {
   "cell_type": "code",
   "execution_count": null,
   "id": "063f20c6",
   "metadata": {},
   "outputs": [],
   "source": [
    "'cat' in spam and 'cat' in spam.values() has different meaning here.\n",
    "First checks the presence of key wiyth name 'cat' in dict spam, while other checks is there exist value 'cat' for any of \n",
    "the keys in dict spam. Both the expressions have different meaning."
   ]
  },
  {
   "cell_type": "code",
   "execution_count": null,
   "id": "56130295",
   "metadata": {},
   "outputs": [],
   "source": [
    "q7)"
   ]
  },
  {
   "cell_type": "code",
   "execution_count": null,
   "id": "778006d1",
   "metadata": {},
   "outputs": [],
   "source": [
    "spam.setdefault('color', 'black')"
   ]
  },
  {
   "cell_type": "code",
   "execution_count": null,
   "id": "ca5b09ac",
   "metadata": {},
   "outputs": [],
   "source": [
    "q8)"
   ]
  },
  {
   "cell_type": "code",
   "execution_count": null,
   "id": "bacf790e",
   "metadata": {},
   "outputs": [],
   "source": [
    "Import module pprint and the use function pprint().\n",
    "pprint.pprint() is the required solution."
   ]
  },
  {
   "cell_type": "code",
   "execution_count": null,
   "id": "7c52b782",
   "metadata": {},
   "outputs": [],
   "source": []
  },
  {
   "cell_type": "code",
   "execution_count": null,
   "id": "169d1fba",
   "metadata": {},
   "outputs": [],
   "source": []
  },
  {
   "cell_type": "code",
   "execution_count": null,
   "id": "141ca570",
   "metadata": {},
   "outputs": [],
   "source": []
  },
  {
   "cell_type": "code",
   "execution_count": null,
   "id": "e9a85424",
   "metadata": {},
   "outputs": [],
   "source": []
  },
  {
   "cell_type": "code",
   "execution_count": null,
   "id": "3331d498",
   "metadata": {},
   "outputs": [],
   "source": []
  }
 ],
 "metadata": {
  "kernelspec": {
   "display_name": "Python 3 (ipykernel)",
   "language": "python",
   "name": "python3"
  },
  "language_info": {
   "codemirror_mode": {
    "name": "ipython",
    "version": 3
   },
   "file_extension": ".py",
   "mimetype": "text/x-python",
   "name": "python",
   "nbconvert_exporter": "python",
   "pygments_lexer": "ipython3",
   "version": "3.9.12"
  }
 },
 "nbformat": 4,
 "nbformat_minor": 5
}
