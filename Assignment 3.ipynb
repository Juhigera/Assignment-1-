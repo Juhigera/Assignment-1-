{
 "cells": [
  {
   "cell_type": "code",
   "execution_count": null,
   "id": "1b1af4d7",
   "metadata": {},
   "outputs": [],
   "source": [
    "q1)\n",
    "\n",
    "Through function you dont need to write your code again and again, instead it provides facility to reuse the same code for\n",
    "some other input, this is major advantanage of function is observed."
   ]
  },
  {
   "cell_type": "code",
   "execution_count": null,
   "id": "dba96918",
   "metadata": {},
   "outputs": [],
   "source": [
    "q2)\n",
    "\n",
    "Code inside function doesnt execute unless function is called with required argument as per demand. Code is excecuted when\n",
    "the function is called."
   ]
  },
  {
   "cell_type": "code",
   "execution_count": null,
   "id": "4f9bc61a",
   "metadata": {},
   "outputs": [],
   "source": [
    "q3)\n",
    "\n",
    "Satrt statement with def followed by function name with open brackets. Write arguments as per the demand of code."
   ]
  },
  {
   "cell_type": "code",
   "execution_count": null,
   "id": "b4a7a93a",
   "metadata": {},
   "outputs": [],
   "source": [
    "q4)\n",
    "\n",
    "Code inside function doesnt execute unless function is called. The required outcome is obtained when function is called.\n",
    "Just simply write the function name and write inputs in open brackets to obtain the oucome.\n"
   ]
  },
  {
   "cell_type": "code",
   "execution_count": null,
   "id": "f34c89a9",
   "metadata": {},
   "outputs": [],
   "source": [
    "q5)\n",
    "\n",
    "There is one global scope per programme excecution. The scope remains in exsistence till the programme runs ans all its \n",
    "names are forgotten.\n",
    "Local scope is python scope created at function call.THe local scope comes into exsitence when the function is called at hand."
   ]
  },
  {
   "cell_type": "code",
   "execution_count": null,
   "id": "a675ef00",
   "metadata": {},
   "outputs": [],
   "source": [
    "q6)\n",
    "\n",
    "When the function call returns all the local variables are destroyed. Local variables are only active in the body of function\n",
    "once the function calls return all local variables are destroyed."
   ]
  },
  {
   "cell_type": "code",
   "execution_count": null,
   "id": "b9ff68c2",
   "metadata": {},
   "outputs": [],
   "source": [
    "q7)\n",
    "\n",
    "Return value is kind of value which function returns on calling function, when programming part is done.\n",
    "Value returning functuion should include return statement which contains an expression."
   ]
  },
  {
   "cell_type": "code",
   "execution_count": null,
   "id": "4e5c4c88",
   "metadata": {},
   "outputs": [],
   "source": [
    "q8)\n",
    "If funcytion doesnt include return statement then it will automatically returns a default value. That default value will always be\n",
    "of none type."
   ]
  },
  {
   "cell_type": "code",
   "execution_count": null,
   "id": "546dda02",
   "metadata": {},
   "outputs": [],
   "source": [
    "q9)\n",
    "\n",
    "Varibales created inside function body are known as local variables and are used inside the function only. Use the global keyword\n",
    "to create global variable inside function."
   ]
  },
  {
   "cell_type": "code",
   "execution_count": null,
   "id": "f06bf355",
   "metadata": {},
   "outputs": [],
   "source": [
    "q10)\n",
    "\n",
    "None has data type of kind None type, which defines null value."
   ]
  },
  {
   "cell_type": "code",
   "execution_count": null,
   "id": "7fdf223e",
   "metadata": {},
   "outputs": [],
   "source": [
    "q11)\n",
    "This imports the module areallyourpetsnamederic."
   ]
  },
  {
   "cell_type": "code",
   "execution_count": null,
   "id": "074b613a",
   "metadata": {},
   "outputs": [],
   "source": [
    "q12)\n",
    "The function can be called with the help of spam.bacon()"
   ]
  },
  {
   "cell_type": "code",
   "execution_count": null,
   "id": "1dfe4584",
   "metadata": {},
   "outputs": [],
   "source": [
    "q13)\n",
    "\n",
    "The case of exception handling comes into picture in order to handle the programme from crashing. \n",
    "Implement the try and except statement to save the prgramme from crashing."
   ]
  },
  {
   "cell_type": "code",
   "execution_count": null,
   "id": "1b7f4923",
   "metadata": {},
   "outputs": [],
   "source": [
    "q14)\n",
    "\n",
    "Run time error can be handled with the help of try and except clause.\n",
    "Try clause is used to test the code with limitations. The except clause is used to handle the errors."
   ]
  }
 ],
 "metadata": {
  "kernelspec": {
   "display_name": "Python 3 (ipykernel)",
   "language": "python",
   "name": "python3"
  },
  "language_info": {
   "codemirror_mode": {
    "name": "ipython",
    "version": 3
   },
   "file_extension": ".py",
   "mimetype": "text/x-python",
   "name": "python",
   "nbconvert_exporter": "python",
   "pygments_lexer": "ipython3",
   "version": "3.9.12"
  }
 },
 "nbformat": 4,
 "nbformat_minor": 5
}
